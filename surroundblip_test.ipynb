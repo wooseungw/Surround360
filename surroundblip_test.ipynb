{
 "cells": [
  {
   "cell_type": "code",
   "execution_count": null,
   "id": "82984cbe",
   "metadata": {},
   "outputs": [
    {
     "name": "stderr",
     "output_type": "stream",
     "text": [
      "/Users/seungwoo/anaconda3/envs/sur/lib/python3.12/site-packages/tqdm/auto.py:21: TqdmWarning: IProgress not found. Please update jupyter and ipywidgets. See https://ipywidgets.readthedocs.io/en/stable/user_install.html\n",
      "  from .autonotebook import tqdm as notebook_tqdm\n",
      "Using a slow image processor as `use_fast` is unset and a slow processor was saved with this model. `use_fast=True` will be the default behavior in v4.52, even if the model was saved with a slow processor. This will result in minor differences in outputs. You'll still be able to use a slow processor with `use_fast=False`.\n",
      "Fetching 2 files:   0%|          | 0/2 [00:00<?, ?it/s]"
     ]
    }
   ],
   "source": [
    "import torch\n",
    "from PIL import Image\n",
    "from transformers import Blip2Processor\n",
    "from src.models.surroundblip import SurroundBlip\n",
    "\n",
    "# 1) 사전학습된 체크포인트 지정\n",
    "model_name = \"Salesforce/blip2-opt-2.7b\"\n",
    "device = \"mps\" if torch.cuda.is_available() else \"cpu\"\n",
    "\n",
    "# 2) 프로세서와 모델 불러오기\n",
    "processor = Blip2Processor.from_pretrained(model_name)\n",
    "model = SurroundBlip.from_pretrained(model_name, torch_dtype=torch.float16, cache_dir='.cache/').to(device)\n",
    "\n",
    "# 3) 파노라마 이미지 로드 (equirectangular)\n",
    "pano = Image.open(\"path/to/panorama.jpg\").convert(\"RGB\")\n",
    "\n",
    "# 4) crop_equirectangular_tensor 적용을 위해 pixel_values 준비\n",
    "#    — Blip2Processor 로 통상적인 center crop만 지원하므로,  \n",
    "#      SurroundBlip.forward()에 (B,P,C,H,W) 형태로 넣어야 합니다.\n",
    "#    아래는 예시로 연속 8방향(90° FOV, 50% 오버랩) perspective 뷰를 얻는 과정입니다.\n",
    "\n",
    "# (a) 전처리: 전체 파노라마를 processor에 한 번에 넣어 resize\n",
    "inputs = processor(images=pano, return_tensors=\"pt\", size=(224*2,224*4)).to(device)  # (1,3,448,896)\n",
    "pixel_values = inputs[\"pixel_values\"]  # shape = (1,3,448,896)\n",
    "\n",
    "# (b) SurroundBlip.forward 내부에서 사용하는 방식과 동일하게 (B,P,C,H,W)로 reshape\n",
    "#     여기서는 직접 호출해 보기 위해 P,S,D 단계 없이 pixel_values만 넘깁니다.\n",
    "\n",
    "# 5) 텍스트 프롬프트 설정\n",
    "prompt = \"Question: 이 장면에서 보이는 동물은 무엇인가요? Answer:\"\n",
    "text_inputs = processor(text=prompt, return_tensors=\"pt\", padding=\"max_length\", max_length=32).to(device)\n",
    "input_ids = text_inputs[\"input_ids\"]\n",
    "attention_mask = text_inputs[\"attention_mask\"]\n",
    "\n",
    "# 6) 모델 인퍼런스\n",
    "model.eval()\n",
    "with torch.no_grad():\n",
    "    outputs = model(\n",
    "        pixel_values=pixel_values,          # (B, P, C, H, W) 형태를 가정 (P=1일 때도 동작)\n",
    "        input_ids=input_ids,\n",
    "        attention_mask=attention_mask,\n",
    "        interpolate_pos_encoding=True,      # 해상도 보간 활성화\n",
    "        use_cache=True\n",
    "    )\n",
    "    generated_ids = model.generate(\n",
    "        pixel_values=pixel_values,\n",
    "        input_ids=input_ids,\n",
    "        max_new_tokens=16,\n",
    "        num_beams=3\n",
    "    )\n",
    "    answer = processor.batch_decode(generated_ids, skip_special_tokens=True)[0]\n",
    "\n",
    "print(\"Generated Answer:\", answer)"
   ]
  }
 ],
 "metadata": {
  "kernelspec": {
   "display_name": "sur",
   "language": "python",
   "name": "python3"
  },
  "language_info": {
   "codemirror_mode": {
    "name": "ipython",
    "version": 3
   },
   "file_extension": ".py",
   "mimetype": "text/x-python",
   "name": "python",
   "nbconvert_exporter": "python",
   "pygments_lexer": "ipython3",
   "version": "3.12.9"
  }
 },
 "nbformat": 4,
 "nbformat_minor": 5
}

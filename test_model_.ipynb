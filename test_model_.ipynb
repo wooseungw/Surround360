{
 "cells": [
  {
   "cell_type": "code",
   "execution_count": null,
   "id": "10817e7f",
   "metadata": {},
   "outputs": [],
   "source": [
    "# import os\n",
    "# os.environ['CUDA_VISIBLE_DEVICES'] = '0'"
   ]
  },
  {
   "cell_type": "code",
   "execution_count": null,
   "id": "8bf6d951",
   "metadata": {},
   "outputs": [],
   "source": [
    "from transformers import AutoTokenizer, Qwen3ForCausalLM\n",
    "\n",
    "model = Qwen3ForCausalLM.from_pretrained(\"Qwen/Qwen3-0.6B\",cache_dir=\"./.cache\",device_map=\"auto\", torch_dtype=\"auto\")\n",
    "tokenizer = AutoTokenizer.from_pretrained(\"Qwen/Qwen3-0.6B\",cache_dir=\"./.cache\",device_map=\"auto\", torch_dtype=\"auto\")\n",
    "\n",
    "prompt = \"Hey, are you conscious? Can you talk to me?\"\n",
    "### (2) 챗 템플릿\n",
    "chat = [\n",
    "    {\"role\": \"system\", \"content\": \"You are a helpful assistant.\"},\n",
    "    {\"role\": \"user\",   \"content\": f\"<image>\"+prompt},\n",
    "]\n",
    "inputs = tokenizer.apply_chat_template(\n",
    "            chat,\n",
    "            add_generation_prompt=True,     # 마지막에 <|im_start|>assistant 삽입\n",
    "            enable_thinking=False,\n",
    "            return_tensors=\"pt\"             # input_ids, attention_mask 직접 반환\n",
    "        )\n",
    "print(inputs)\n",
    "\n",
    "inputs = inputs.to(model.device)\n",
    "# Generate\n",
    "generate_ids = model.generate(inputs)\n",
    "tokenizer.batch_decode(generate_ids, skip_special_tokens=True, clean_up_tokenization_spaces=True)[0]"
   ]
  },
  {
   "cell_type": "code",
   "execution_count": 1,
   "id": "afb75370",
   "metadata": {},
   "outputs": [
    {
     "name": "stderr",
     "output_type": "stream",
     "text": [
      "/Users/seungwoo/anaconda3/envs/sur/lib/python3.12/site-packages/tqdm/auto.py:21: TqdmWarning: IProgress not found. Please update jupyter and ipywidgets. See https://ipywidgets.readthedocs.io/en/stable/user_install.html\n",
      "  from .autonotebook import tqdm as notebook_tqdm\n"
     ]
    }
   ],
   "source": [
    "from transformers import (\n",
    "    AutoProcessor,\n",
    "    AutoTokenizer,\n",
    "    AutoModel,\n",
    "    AutoConfig,\n",
    "    Gemma3ForConditionalGeneration,\n",
    "    Qwen2_5_VLForConditionalGeneration, \n",
    "    OPTForCausalLM,\n",
    "    VisionEncoderDecoderConfig,\n",
    "    VisionEncoderDecoderModel\n",
    ")\n",
    "# from src.models.config import VisionLanguageConfig"
   ]
  },
  {
   "cell_type": "markdown",
   "id": "72df9536",
   "metadata": {},
   "source": [
    "### QWEN2.5VL\n"
   ]
  },
  {
   "cell_type": "code",
   "execution_count": 7,
   "id": "c08e8329",
   "metadata": {},
   "outputs": [
    {
     "name": "stdout",
     "output_type": "stream",
     "text": [
      "Qwen2_5_VLConfig {\n",
      "  \"architectures\": [\n",
      "    \"Qwen2_5_VLForConditionalGeneration\"\n",
      "  ],\n",
      "  \"attention_dropout\": 0.0,\n",
      "  \"bos_token_id\": 151643,\n",
      "  \"eos_token_id\": 151645,\n",
      "  \"hidden_act\": \"silu\",\n",
      "  \"hidden_size\": 2048,\n",
      "  \"image_token_id\": 151655,\n",
      "  \"initializer_range\": 0.02,\n",
      "  \"intermediate_size\": 11008,\n",
      "  \"max_position_embeddings\": 128000,\n",
      "  \"max_window_layers\": 70,\n",
      "  \"model_type\": \"qwen2_5_vl\",\n",
      "  \"num_attention_heads\": 16,\n",
      "  \"num_hidden_layers\": 36,\n",
      "  \"num_key_value_heads\": 2,\n",
      "  \"rms_norm_eps\": 1e-06,\n",
      "  \"rope_scaling\": {\n",
      "    \"mrope_section\": [\n",
      "      16,\n",
      "      24,\n",
      "      24\n",
      "    ],\n",
      "    \"rope_type\": \"default\",\n",
      "    \"type\": \"default\"\n",
      "  },\n",
      "  \"rope_theta\": 1000000.0,\n",
      "  \"sliding_window\": 32768,\n",
      "  \"tie_word_embeddings\": true,\n",
      "  \"torch_dtype\": \"bfloat16\",\n",
      "  \"transformers_version\": \"4.51.3\",\n",
      "  \"use_cache\": true,\n",
      "  \"use_sliding_window\": false,\n",
      "  \"video_token_id\": 151656,\n",
      "  \"vision_config\": {\n",
      "    \"depth\": 32,\n",
      "    \"fullatt_block_indexes\": [\n",
      "      7,\n",
      "      15,\n",
      "      23,\n",
      "      31\n",
      "    ],\n",
      "    \"hidden_act\": \"silu\",\n",
      "    \"hidden_size\": 1280,\n",
      "    \"in_channels\": 3,\n",
      "    \"in_chans\": 3,\n",
      "    \"intermediate_size\": 3420,\n",
      "    \"model_type\": \"qwen2_5_vl\",\n",
      "    \"num_heads\": 16,\n",
      "    \"out_hidden_size\": 2048,\n",
      "    \"patch_size\": 14,\n",
      "    \"spatial_merge_size\": 2,\n",
      "    \"spatial_patch_size\": 14,\n",
      "    \"temporal_patch_size\": 2,\n",
      "    \"tokens_per_second\": 2,\n",
      "    \"window_size\": 112\n",
      "  },\n",
      "  \"vision_end_token_id\": 151653,\n",
      "  \"vision_start_token_id\": 151652,\n",
      "  \"vision_token_id\": 151654,\n",
      "  \"vocab_size\": 151936\n",
      "}\n",
      "\n"
     ]
    }
   ],
   "source": [
    "model_name = \"Qwen/Qwen2.5-VL-3B-Instruct\"\n",
    "model_config = AutoConfig.from_pretrained(model_name, trust_remote_code=True)\n",
    "processor = AutoProcessor.from_pretrained(model_name, trust_remote_code=True)\n",
    "print(model_config)"
   ]
  },
  {
   "cell_type": "code",
   "execution_count": 6,
   "id": "22c54d91",
   "metadata": {},
   "outputs": [
    {
     "name": "stderr",
     "output_type": "stream",
     "text": [
      "Loading checkpoint shards: 100%|██████████| 2/2 [00:15<00:00,  7.95s/it]\n"
     ]
    },
    {
     "name": "stdout",
     "output_type": "stream",
     "text": [
      "Qwen2_5_VLForConditionalGeneration(\n",
      "  (visual): Qwen2_5_VisionTransformerPretrainedModel(\n",
      "    (patch_embed): Qwen2_5_VisionPatchEmbed(\n",
      "      (proj): Conv3d(3, 1280, kernel_size=(2, 14, 14), stride=(2, 14, 14), bias=False)\n",
      "    )\n",
      "    (rotary_pos_emb): Qwen2_5_VisionRotaryEmbedding()\n",
      "    (blocks): ModuleList(\n",
      "      (0-31): 32 x Qwen2_5_VLVisionBlock(\n",
      "        (norm1): Qwen2RMSNorm((1280,), eps=1e-06)\n",
      "        (norm2): Qwen2RMSNorm((1280,), eps=1e-06)\n",
      "        (attn): Qwen2_5_VLVisionSdpaAttention(\n",
      "          (qkv): Linear(in_features=1280, out_features=3840, bias=True)\n",
      "          (proj): Linear(in_features=1280, out_features=1280, bias=True)\n",
      "        )\n",
      "        (mlp): Qwen2_5_VLMLP(\n",
      "          (gate_proj): Linear(in_features=1280, out_features=3420, bias=True)\n",
      "          (up_proj): Linear(in_features=1280, out_features=3420, bias=True)\n",
      "          (down_proj): Linear(in_features=3420, out_features=1280, bias=True)\n",
      "          (act_fn): SiLU()\n",
      "        )\n",
      "      )\n",
      "    )\n",
      "    (merger): Qwen2_5_VLPatchMerger(\n",
      "      (ln_q): Qwen2RMSNorm((1280,), eps=1e-06)\n",
      "      (mlp): Sequential(\n",
      "        (0): Linear(in_features=5120, out_features=5120, bias=True)\n",
      "        (1): GELU(approximate='none')\n",
      "        (2): Linear(in_features=5120, out_features=2048, bias=True)\n",
      "      )\n",
      "    )\n",
      "  )\n",
      "  (model): Qwen2_5_VLModel(\n",
      "    (embed_tokens): Embedding(151936, 2048)\n",
      "    (layers): ModuleList(\n",
      "      (0-35): 36 x Qwen2_5_VLDecoderLayer(\n",
      "        (self_attn): Qwen2_5_VLSdpaAttention(\n",
      "          (q_proj): Linear(in_features=2048, out_features=2048, bias=True)\n",
      "          (k_proj): Linear(in_features=2048, out_features=256, bias=True)\n",
      "          (v_proj): Linear(in_features=2048, out_features=256, bias=True)\n",
      "          (o_proj): Linear(in_features=2048, out_features=2048, bias=False)\n",
      "          (rotary_emb): Qwen2_5_VLRotaryEmbedding()\n",
      "        )\n",
      "        (mlp): Qwen2MLP(\n",
      "          (gate_proj): Linear(in_features=2048, out_features=11008, bias=False)\n",
      "          (up_proj): Linear(in_features=2048, out_features=11008, bias=False)\n",
      "          (down_proj): Linear(in_features=11008, out_features=2048, bias=False)\n",
      "          (act_fn): SiLU()\n",
      "        )\n",
      "        (input_layernorm): Qwen2RMSNorm((2048,), eps=1e-06)\n",
      "        (post_attention_layernorm): Qwen2RMSNorm((2048,), eps=1e-06)\n",
      "      )\n",
      "    )\n",
      "    (norm): Qwen2RMSNorm((2048,), eps=1e-06)\n",
      "    (rotary_emb): Qwen2_5_VLRotaryEmbedding()\n",
      "  )\n",
      "  (lm_head): Linear(in_features=2048, out_features=151936, bias=False)\n",
      ")\n"
     ]
    }
   ],
   "source": [
    "model = Qwen2_5_VLForConditionalGeneration.from_pretrained(\n",
    "    model_name,\n",
    "    # config=model_config,\n",
    "    cache_dir=\"./.cache\",\n",
    ")\n",
    "print(model)"
   ]
  },
  {
   "cell_type": "code",
   "execution_count": 4,
   "id": "1a1f4192",
   "metadata": {},
   "outputs": [
    {
     "name": "stdout",
     "output_type": "stream",
     "text": [
      "Qwen2_5_VLModel(\n",
      "  (embed_tokens): Embedding(151936, 2048)\n",
      "  (layers): ModuleList(\n",
      "    (0-35): 36 x Qwen2_5_VLDecoderLayer(\n",
      "      (self_attn): Qwen2_5_VLSdpaAttention(\n",
      "        (q_proj): Linear(in_features=2048, out_features=2048, bias=True)\n",
      "        (k_proj): Linear(in_features=2048, out_features=256, bias=True)\n",
      "        (v_proj): Linear(in_features=2048, out_features=256, bias=True)\n",
      "        (o_proj): Linear(in_features=2048, out_features=2048, bias=False)\n",
      "        (rotary_emb): Qwen2_5_VLRotaryEmbedding()\n",
      "      )\n",
      "      (mlp): Qwen2MLP(\n",
      "        (gate_proj): Linear(in_features=2048, out_features=11008, bias=False)\n",
      "        (up_proj): Linear(in_features=2048, out_features=11008, bias=False)\n",
      "        (down_proj): Linear(in_features=11008, out_features=2048, bias=False)\n",
      "        (act_fn): SiLU()\n",
      "      )\n",
      "      (input_layernorm): Qwen2RMSNorm((2048,), eps=1e-06)\n",
      "      (post_attention_layernorm): Qwen2RMSNorm((2048,), eps=1e-06)\n",
      "    )\n",
      "  )\n",
      "  (norm): Qwen2RMSNorm((2048,), eps=1e-06)\n",
      "  (rotary_emb): Qwen2_5_VLRotaryEmbedding()\n",
      ")\n"
     ]
    }
   ],
   "source": [
    "model = model.model\n",
    "print(model)"
   ]
  },
  {
   "cell_type": "markdown",
   "id": "b4ce4084",
   "metadata": {},
   "source": [
    "### GEMMA3"
   ]
  },
  {
   "cell_type": "code",
   "execution_count": 2,
   "id": "6d934910",
   "metadata": {},
   "outputs": [
    {
     "name": "stderr",
     "output_type": "stream",
     "text": [
      "Using a slow image processor as `use_fast` is unset and a slow processor was saved with this model. `use_fast=True` will be the default behavior in v4.52, even if the model was saved with a slow processor. This will result in minor differences in outputs. You'll still be able to use a slow processor with `use_fast=False`.\n"
     ]
    },
    {
     "name": "stdout",
     "output_type": "stream",
     "text": [
      "Gemma3Config {\n",
      "  \"architectures\": [\n",
      "    \"Gemma3ForConditionalGeneration\"\n",
      "  ],\n",
      "  \"boi_token_index\": 255999,\n",
      "  \"eoi_token_index\": 256000,\n",
      "  \"eos_token_id\": [\n",
      "    1,\n",
      "    106\n",
      "  ],\n",
      "  \"image_token_index\": 262144,\n",
      "  \"initializer_range\": 0.02,\n",
      "  \"mm_tokens_per_image\": 256,\n",
      "  \"model_type\": \"gemma3\",\n",
      "  \"text_config\": {\n",
      "    \"attention_bias\": false,\n",
      "    \"attention_dropout\": 0.0,\n",
      "    \"attn_logit_softcapping\": null,\n",
      "    \"cache_implementation\": \"hybrid\",\n",
      "    \"final_logit_softcapping\": null,\n",
      "    \"head_dim\": 256,\n",
      "    \"hidden_activation\": \"gelu_pytorch_tanh\",\n",
      "    \"hidden_size\": 2560,\n",
      "    \"initializer_range\": 0.02,\n",
      "    \"intermediate_size\": 10240,\n",
      "    \"max_position_embeddings\": 131072,\n",
      "    \"model_type\": \"gemma3_text\",\n",
      "    \"num_attention_heads\": 8,\n",
      "    \"num_hidden_layers\": 34,\n",
      "    \"num_key_value_heads\": 4,\n",
      "    \"query_pre_attn_scalar\": 256,\n",
      "    \"rms_norm_eps\": 1e-06,\n",
      "    \"rope_local_base_freq\": 10000.0,\n",
      "    \"rope_scaling\": {\n",
      "      \"factor\": 8.0,\n",
      "      \"rope_type\": \"linear\"\n",
      "    },\n",
      "    \"rope_theta\": 1000000.0,\n",
      "    \"sliding_window\": 1024,\n",
      "    \"sliding_window_pattern\": 6,\n",
      "    \"use_cache\": true,\n",
      "    \"vocab_size\": 262208\n",
      "  },\n",
      "  \"torch_dtype\": \"bfloat16\",\n",
      "  \"transformers_version\": \"4.51.3\",\n",
      "  \"vision_config\": {\n",
      "    \"attention_dropout\": 0.0,\n",
      "    \"hidden_act\": \"gelu_pytorch_tanh\",\n",
      "    \"hidden_size\": 1152,\n",
      "    \"image_size\": 896,\n",
      "    \"intermediate_size\": 4304,\n",
      "    \"layer_norm_eps\": 1e-06,\n",
      "    \"model_type\": \"siglip_vision_model\",\n",
      "    \"num_attention_heads\": 16,\n",
      "    \"num_channels\": 3,\n",
      "    \"num_hidden_layers\": 27,\n",
      "    \"patch_size\": 14,\n",
      "    \"vision_use_head\": false\n",
      "  }\n",
      "}\n",
      "\n"
     ]
    }
   ],
   "source": [
    "model_name = \"google/gemma-3-4b-it\"\n",
    "model_config = AutoConfig.from_pretrained(model_name, trust_remote_code=True)\n",
    "processor = AutoProcessor.from_pretrained(model_name, trust_remote_code=True)\n",
    "print(model_config)"
   ]
  },
  {
   "cell_type": "code",
   "execution_count": null,
   "id": "0d30cd47",
   "metadata": {},
   "outputs": [],
   "source": [
    "model = Gemma3ForConditionalGeneration.from_pretrained(\n",
    "    model_name,\n",
    "    # config=model_config,\n",
    "    cache_dir=\"./.cache\",\n",
    ")\n",
    "print(model)\n",
    "model = model.language_model\n",
    "print(model)"
   ]
  },
  {
   "cell_type": "code",
   "execution_count": null,
   "id": "1f91ef5b",
   "metadata": {},
   "outputs": [],
   "source": [
    "import transformers\n",
    "\n",
    "MODEL_TYPE_MAPPING = {\n",
    "    'google/gemma-3-4b-it': transformers.Gemma3ForConditionalGeneration,\n",
    "    'Qwen/Qwen2.5-VL-3B-Instruct': transformers.Qwen2_5_VLForConditionalGeneration,\n",
    "}\n",
    "\n",
    "def get_language_model_class(config):\n",
    "    \"\"\"\n",
    "    매핑 테이블을 활용한 모델 클래스 선택\n",
    "    \"\"\"\n",
    "    model_type = config.get('model_type', '')\n",
    "    \n",
    "    # 정확한 매치 먼저 확인\n",
    "    if model_type in MODEL_TYPE_MAPPING:\n",
    "        return MODEL_TYPE_MAPPING[model_type].language_model\n",
    "    \n",
    "    "
   ]
  }
 ],
 "metadata": {
  "kernelspec": {
   "display_name": "sur",
   "language": "python",
   "name": "python3"
  },
  "language_info": {
   "codemirror_mode": {
    "name": "ipython",
    "version": 3
   },
   "file_extension": ".py",
   "mimetype": "text/x-python",
   "name": "python",
   "nbconvert_exporter": "python",
   "pygments_lexer": "ipython3",
   "version": "3.12.9"
  }
 },
 "nbformat": 4,
 "nbformat_minor": 5
}
